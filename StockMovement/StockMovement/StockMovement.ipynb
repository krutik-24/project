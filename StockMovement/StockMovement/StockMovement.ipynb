{
 "cells": [
  {
   "cell_type": "code",
   "execution_count": 1,
   "id": "57fe5b44",
   "metadata": {},
   "outputs": [
    {
     "name": "stderr",
     "output_type": "stream",
     "text": [
      "Using TensorFlow backend.\n",
      "c:\\users\\user\\appdata\\local\\programs\\python\\python37\\lib\\site-packages\\tensorflow\\python\\framework\\dtypes.py:516: FutureWarning: Passing (type, 1) or '1type' as a synonym of type is deprecated; in a future version of numpy, it will be understood as (type, (1,)) / '(1,)type'.\n",
      "  _np_qint8 = np.dtype([(\"qint8\", np.int8, 1)])\n",
      "c:\\users\\user\\appdata\\local\\programs\\python\\python37\\lib\\site-packages\\tensorflow\\python\\framework\\dtypes.py:517: FutureWarning: Passing (type, 1) or '1type' as a synonym of type is deprecated; in a future version of numpy, it will be understood as (type, (1,)) / '(1,)type'.\n",
      "  _np_quint8 = np.dtype([(\"quint8\", np.uint8, 1)])\n",
      "c:\\users\\user\\appdata\\local\\programs\\python\\python37\\lib\\site-packages\\tensorflow\\python\\framework\\dtypes.py:518: FutureWarning: Passing (type, 1) or '1type' as a synonym of type is deprecated; in a future version of numpy, it will be understood as (type, (1,)) / '(1,)type'.\n",
      "  _np_qint16 = np.dtype([(\"qint16\", np.int16, 1)])\n",
      "c:\\users\\user\\appdata\\local\\programs\\python\\python37\\lib\\site-packages\\tensorflow\\python\\framework\\dtypes.py:519: FutureWarning: Passing (type, 1) or '1type' as a synonym of type is deprecated; in a future version of numpy, it will be understood as (type, (1,)) / '(1,)type'.\n",
      "  _np_quint16 = np.dtype([(\"quint16\", np.uint16, 1)])\n",
      "c:\\users\\user\\appdata\\local\\programs\\python\\python37\\lib\\site-packages\\tensorflow\\python\\framework\\dtypes.py:520: FutureWarning: Passing (type, 1) or '1type' as a synonym of type is deprecated; in a future version of numpy, it will be understood as (type, (1,)) / '(1,)type'.\n",
      "  _np_qint32 = np.dtype([(\"qint32\", np.int32, 1)])\n",
      "c:\\users\\user\\appdata\\local\\programs\\python\\python37\\lib\\site-packages\\tensorflow\\python\\framework\\dtypes.py:525: FutureWarning: Passing (type, 1) or '1type' as a synonym of type is deprecated; in a future version of numpy, it will be understood as (type, (1,)) / '(1,)type'.\n",
      "  np_resource = np.dtype([(\"resource\", np.ubyte, 1)])\n",
      "c:\\users\\user\\appdata\\local\\programs\\python\\python37\\lib\\site-packages\\tensorboard\\compat\\tensorflow_stub\\dtypes.py:541: FutureWarning: Passing (type, 1) or '1type' as a synonym of type is deprecated; in a future version of numpy, it will be understood as (type, (1,)) / '(1,)type'.\n",
      "  _np_qint8 = np.dtype([(\"qint8\", np.int8, 1)])\n",
      "c:\\users\\user\\appdata\\local\\programs\\python\\python37\\lib\\site-packages\\tensorboard\\compat\\tensorflow_stub\\dtypes.py:542: FutureWarning: Passing (type, 1) or '1type' as a synonym of type is deprecated; in a future version of numpy, it will be understood as (type, (1,)) / '(1,)type'.\n",
      "  _np_quint8 = np.dtype([(\"quint8\", np.uint8, 1)])\n",
      "c:\\users\\user\\appdata\\local\\programs\\python\\python37\\lib\\site-packages\\tensorboard\\compat\\tensorflow_stub\\dtypes.py:543: FutureWarning: Passing (type, 1) or '1type' as a synonym of type is deprecated; in a future version of numpy, it will be understood as (type, (1,)) / '(1,)type'.\n",
      "  _np_qint16 = np.dtype([(\"qint16\", np.int16, 1)])\n",
      "c:\\users\\user\\appdata\\local\\programs\\python\\python37\\lib\\site-packages\\tensorboard\\compat\\tensorflow_stub\\dtypes.py:544: FutureWarning: Passing (type, 1) or '1type' as a synonym of type is deprecated; in a future version of numpy, it will be understood as (type, (1,)) / '(1,)type'.\n",
      "  _np_quint16 = np.dtype([(\"quint16\", np.uint16, 1)])\n",
      "c:\\users\\user\\appdata\\local\\programs\\python\\python37\\lib\\site-packages\\tensorboard\\compat\\tensorflow_stub\\dtypes.py:545: FutureWarning: Passing (type, 1) or '1type' as a synonym of type is deprecated; in a future version of numpy, it will be understood as (type, (1,)) / '(1,)type'.\n",
      "  _np_qint32 = np.dtype([(\"qint32\", np.int32, 1)])\n",
      "c:\\users\\user\\appdata\\local\\programs\\python\\python37\\lib\\site-packages\\tensorboard\\compat\\tensorflow_stub\\dtypes.py:550: FutureWarning: Passing (type, 1) or '1type' as a synonym of type is deprecated; in a future version of numpy, it will be understood as (type, (1,)) / '(1,)type'.\n",
      "  np_resource = np.dtype([(\"resource\", np.ubyte, 1)])\n"
     ]
    }
   ],
   "source": [
    "#importing packages and classes from tensorflow to implement LSTM and GRU and SKLearn packages from ML implementation\n",
    "import seaborn as sns\n",
    "from sklearn.metrics import precision_score\n",
    "from sklearn.metrics import recall_score\n",
    "from sklearn.metrics import f1_score\n",
    "import matplotlib.pyplot as plt\n",
    "import numpy as np\n",
    "import pandas as pd\n",
    "from sklearn.metrics import accuracy_score\n",
    "from sklearn.preprocessing import MinMaxScaler\n",
    "from sklearn.metrics import confusion_matrix\n",
    "\n",
    "from sklearn.model_selection import train_test_split\n",
    "from keras.models import Sequential, load_model\n",
    "from keras.layers import Dense\n",
    "from keras.layers import Dropout\n",
    "from keras.utils.np_utils import to_categorical\n",
    "import os\n",
    "\n",
    "from sentence_transformers import SentenceTransformer #loading bert sentence model\n",
    "from keras.layers import LSTM #class for LSTM training\n",
    "from keras.layers import Dropout\n",
    "from keras.callbacks import ModelCheckpoint\n",
    "from keras.layers import Bidirectional,GRU #loading GRU and bidirectional model\n",
    "import pickle\n"
   ]
  },
  {
   "cell_type": "code",
   "execution_count": 5,
   "id": "1bde4b8f",
   "metadata": {},
   "outputs": [],
   "source": [
    "#define minmax scaler class for features normalization\n",
    "normalized = MinMaxScaler((0, 1))"
   ]
  },
  {
   "cell_type": "code",
   "execution_count": 6,
   "id": "ae22dfd5",
   "metadata": {},
   "outputs": [
    {
     "name": "stdout",
     "output_type": "stream",
     "text": [
      "Bert object initialized\n"
     ]
    }
   ],
   "source": [
    "#create bert model object\n",
    "bert = SentenceTransformer('nli-distilroberta-base-v2')\n",
    "print(\"Bert object initialized\")"
   ]
  },
  {
   "cell_type": "code",
   "execution_count": 3,
   "id": "7daaeea3",
   "metadata": {},
   "outputs": [
    {
     "data": {
      "text/html": [
       "<div>\n",
       "<style scoped>\n",
       "    .dataframe tbody tr th:only-of-type {\n",
       "        vertical-align: middle;\n",
       "    }\n",
       "\n",
       "    .dataframe tbody tr th {\n",
       "        vertical-align: top;\n",
       "    }\n",
       "\n",
       "    .dataframe thead th {\n",
       "        text-align: right;\n",
       "    }\n",
       "</style>\n",
       "<table border=\"1\" class=\"dataframe\">\n",
       "  <thead>\n",
       "    <tr style=\"text-align: right;\">\n",
       "      <th></th>\n",
       "      <th>Date</th>\n",
       "      <th>Open</th>\n",
       "      <th>High</th>\n",
       "      <th>Low</th>\n",
       "      <th>Close</th>\n",
       "      <th>Adj Close</th>\n",
       "      <th>Volume</th>\n",
       "      <th>Label</th>\n",
       "    </tr>\n",
       "  </thead>\n",
       "  <tbody>\n",
       "    <tr>\n",
       "      <th>0</th>\n",
       "      <td>2012-09-04</td>\n",
       "      <td>95.108574</td>\n",
       "      <td>96.448570</td>\n",
       "      <td>94.928574</td>\n",
       "      <td>96.424286</td>\n",
       "      <td>87.121140</td>\n",
       "      <td>91973000</td>\n",
       "      <td>1</td>\n",
       "    </tr>\n",
       "    <tr>\n",
       "      <th>1</th>\n",
       "      <td>2012-09-05</td>\n",
       "      <td>96.510002</td>\n",
       "      <td>96.621429</td>\n",
       "      <td>95.657143</td>\n",
       "      <td>95.747147</td>\n",
       "      <td>86.509338</td>\n",
       "      <td>84093800</td>\n",
       "      <td>0</td>\n",
       "    </tr>\n",
       "    <tr>\n",
       "      <th>2</th>\n",
       "      <td>2012-09-06</td>\n",
       "      <td>96.167145</td>\n",
       "      <td>96.898575</td>\n",
       "      <td>95.828575</td>\n",
       "      <td>96.610001</td>\n",
       "      <td>87.288956</td>\n",
       "      <td>97799100</td>\n",
       "      <td>1</td>\n",
       "    </tr>\n",
       "    <tr>\n",
       "      <th>3</th>\n",
       "      <td>2012-09-07</td>\n",
       "      <td>96.864288</td>\n",
       "      <td>97.497147</td>\n",
       "      <td>96.538574</td>\n",
       "      <td>97.205711</td>\n",
       "      <td>87.827171</td>\n",
       "      <td>82416600</td>\n",
       "      <td>1</td>\n",
       "    </tr>\n",
       "    <tr>\n",
       "      <th>4</th>\n",
       "      <td>2012-09-10</td>\n",
       "      <td>97.207146</td>\n",
       "      <td>97.612854</td>\n",
       "      <td>94.585716</td>\n",
       "      <td>94.677139</td>\n",
       "      <td>85.542564</td>\n",
       "      <td>121999500</td>\n",
       "      <td>0</td>\n",
       "    </tr>\n",
       "    <tr>\n",
       "      <th>...</th>\n",
       "      <td>...</td>\n",
       "      <td>...</td>\n",
       "      <td>...</td>\n",
       "      <td>...</td>\n",
       "      <td>...</td>\n",
       "      <td>...</td>\n",
       "      <td>...</td>\n",
       "      <td>...</td>\n",
       "    </tr>\n",
       "    <tr>\n",
       "      <th>1253</th>\n",
       "      <td>2017-08-28</td>\n",
       "      <td>160.139999</td>\n",
       "      <td>162.000000</td>\n",
       "      <td>159.929993</td>\n",
       "      <td>161.470001</td>\n",
       "      <td>161.470001</td>\n",
       "      <td>25966000</td>\n",
       "      <td>1</td>\n",
       "    </tr>\n",
       "    <tr>\n",
       "      <th>1254</th>\n",
       "      <td>2017-08-29</td>\n",
       "      <td>160.100006</td>\n",
       "      <td>163.119995</td>\n",
       "      <td>160.000000</td>\n",
       "      <td>162.910004</td>\n",
       "      <td>162.910004</td>\n",
       "      <td>29516900</td>\n",
       "      <td>1</td>\n",
       "    </tr>\n",
       "    <tr>\n",
       "      <th>1255</th>\n",
       "      <td>2017-08-30</td>\n",
       "      <td>163.800003</td>\n",
       "      <td>163.889999</td>\n",
       "      <td>162.610001</td>\n",
       "      <td>163.350006</td>\n",
       "      <td>163.350006</td>\n",
       "      <td>27269600</td>\n",
       "      <td>1</td>\n",
       "    </tr>\n",
       "    <tr>\n",
       "      <th>1256</th>\n",
       "      <td>2017-08-31</td>\n",
       "      <td>163.639999</td>\n",
       "      <td>164.520004</td>\n",
       "      <td>163.479996</td>\n",
       "      <td>164.000000</td>\n",
       "      <td>164.000000</td>\n",
       "      <td>26785100</td>\n",
       "      <td>1</td>\n",
       "    </tr>\n",
       "    <tr>\n",
       "      <th>1257</th>\n",
       "      <td>2017-09-01</td>\n",
       "      <td>164.800003</td>\n",
       "      <td>164.940002</td>\n",
       "      <td>163.630005</td>\n",
       "      <td>164.050003</td>\n",
       "      <td>164.050003</td>\n",
       "      <td>16552800</td>\n",
       "      <td>1</td>\n",
       "    </tr>\n",
       "  </tbody>\n",
       "</table>\n",
       "<p>1258 rows × 8 columns</p>\n",
       "</div>"
      ],
      "text/plain": [
       "            Date        Open        High         Low       Close   Adj Close  \\\n",
       "0     2012-09-04   95.108574   96.448570   94.928574   96.424286   87.121140   \n",
       "1     2012-09-05   96.510002   96.621429   95.657143   95.747147   86.509338   \n",
       "2     2012-09-06   96.167145   96.898575   95.828575   96.610001   87.288956   \n",
       "3     2012-09-07   96.864288   97.497147   96.538574   97.205711   87.827171   \n",
       "4     2012-09-10   97.207146   97.612854   94.585716   94.677139   85.542564   \n",
       "...          ...         ...         ...         ...         ...         ...   \n",
       "1253  2017-08-28  160.139999  162.000000  159.929993  161.470001  161.470001   \n",
       "1254  2017-08-29  160.100006  163.119995  160.000000  162.910004  162.910004   \n",
       "1255  2017-08-30  163.800003  163.889999  162.610001  163.350006  163.350006   \n",
       "1256  2017-08-31  163.639999  164.520004  163.479996  164.000000  164.000000   \n",
       "1257  2017-09-01  164.800003  164.940002  163.630005  164.050003  164.050003   \n",
       "\n",
       "         Volume  Label  \n",
       "0      91973000      1  \n",
       "1      84093800      0  \n",
       "2      97799100      1  \n",
       "3      82416600      1  \n",
       "4     121999500      0  \n",
       "...         ...    ...  \n",
       "1253   25966000      1  \n",
       "1254   29516900      1  \n",
       "1255   27269600      1  \n",
       "1256   26785100      1  \n",
       "1257   16552800      1  \n",
       "\n",
       "[1258 rows x 8 columns]"
      ]
     },
     "execution_count": 3,
     "metadata": {},
     "output_type": "execute_result"
    }
   ],
   "source": [
    "#load stock prices dataset\n",
    "dataset = pd.read_csv(\"Dataset/AAPL.csv\")\n",
    "dataset.fillna(0, inplace = True)\n",
    "dataset"
   ]
  },
  {
   "cell_type": "code",
   "execution_count": 4,
   "id": "bdb0f861",
   "metadata": {},
   "outputs": [
    {
     "data": {
      "text/html": [
       "<div>\n",
       "<style scoped>\n",
       "    .dataframe tbody tr th:only-of-type {\n",
       "        vertical-align: middle;\n",
       "    }\n",
       "\n",
       "    .dataframe tbody tr th {\n",
       "        vertical-align: top;\n",
       "    }\n",
       "\n",
       "    .dataframe thead th {\n",
       "        text-align: right;\n",
       "    }\n",
       "</style>\n",
       "<table border=\"1\" class=\"dataframe\">\n",
       "  <thead>\n",
       "    <tr style=\"text-align: right;\">\n",
       "      <th></th>\n",
       "      <th>Tweets</th>\n",
       "      <th>Label</th>\n",
       "    </tr>\n",
       "  </thead>\n",
       "  <tbody>\n",
       "    <tr>\n",
       "      <th>0</th>\n",
       "      <td>RT @philstockworld: Summary of Yesterday's Web...</td>\n",
       "      <td>0</td>\n",
       "    </tr>\n",
       "    <tr>\n",
       "      <th>1</th>\n",
       "      <td>iTV Will Boost Apple http://t.co/8dup4cQc08 $A...</td>\n",
       "      <td>0</td>\n",
       "    </tr>\n",
       "    <tr>\n",
       "      <th>2</th>\n",
       "      <td>#iPhone users are more intelligent than #Samsu...</td>\n",
       "      <td>0</td>\n",
       "    </tr>\n",
       "    <tr>\n",
       "      <th>3</th>\n",
       "      <td>RT @philstockworld: Summary of Yesterday's Web...</td>\n",
       "      <td>0</td>\n",
       "    </tr>\n",
       "    <tr>\n",
       "      <th>4</th>\n",
       "      <td>2013 Wrap-Up And Trading Set Review - Part III...</td>\n",
       "      <td>0</td>\n",
       "    </tr>\n",
       "    <tr>\n",
       "      <th>...</th>\n",
       "      <td>...</td>\n",
       "      <td>...</td>\n",
       "    </tr>\n",
       "    <tr>\n",
       "      <th>1253</th>\n",
       "      <td>RT @engadget: Miss anything from today's #WWDC...</td>\n",
       "      <td>1</td>\n",
       "    </tr>\n",
       "    <tr>\n",
       "      <th>1254</th>\n",
       "      <td>RT @carlquintanilla: #WWDC14 TV madness. @CNBC...</td>\n",
       "      <td>1</td>\n",
       "    </tr>\n",
       "    <tr>\n",
       "      <th>1255</th>\n",
       "      <td>RT @engadget: Miss anything from today's #WWDC...</td>\n",
       "      <td>1</td>\n",
       "    </tr>\n",
       "    <tr>\n",
       "      <th>1256</th>\n",
       "      <td>.@dasan Why not? Everyone loves the idea of a ...</td>\n",
       "      <td>1</td>\n",
       "    </tr>\n",
       "    <tr>\n",
       "      <th>1257</th>\n",
       "      <td>$AAPL Apple's Hard-to-Find Downloads Send Zomb...</td>\n",
       "      <td>1</td>\n",
       "    </tr>\n",
       "  </tbody>\n",
       "</table>\n",
       "<p>1258 rows × 2 columns</p>\n",
       "</div>"
      ],
      "text/plain": [
       "                                                 Tweets  Label\n",
       "0     RT @philstockworld: Summary of Yesterday's Web...      0\n",
       "1     iTV Will Boost Apple http://t.co/8dup4cQc08 $A...      0\n",
       "2     #iPhone users are more intelligent than #Samsu...      0\n",
       "3     RT @philstockworld: Summary of Yesterday's Web...      0\n",
       "4     2013 Wrap-Up And Trading Set Review - Part III...      0\n",
       "...                                                 ...    ...\n",
       "1253  RT @engadget: Miss anything from today's #WWDC...      1\n",
       "1254  RT @carlquintanilla: #WWDC14 TV madness. @CNBC...      1\n",
       "1255  RT @engadget: Miss anything from today's #WWDC...      1\n",
       "1256  .@dasan Why not? Everyone loves the idea of a ...      1\n",
       "1257  $AAPL Apple's Hard-to-Find Downloads Send Zomb...      1\n",
       "\n",
       "[1258 rows x 2 columns]"
      ]
     },
     "execution_count": 4,
     "metadata": {},
     "output_type": "execute_result"
    }
   ],
   "source": [
    "#now load tweets dataset\n",
    "tweets = pd.read_csv(\"Dataset/tweets.csv\")\n",
    "tweets"
   ]
  },
  {
   "cell_type": "code",
   "execution_count": 7,
   "id": "f46ba9aa",
   "metadata": {},
   "outputs": [
    {
     "name": "stdout",
     "output_type": "stream",
     "text": [
      "Tweets Bert Features\n",
      "[[ 0.47884727 -0.17085582 -0.19215608 ... -0.8593467   0.00342204\n",
      "   0.5788879 ]\n",
      " [ 0.1862817   0.30714378 -0.1579565  ...  0.7503138  -0.01108627\n",
      "   0.15015505]\n",
      " [ 0.3280021   0.267668   -0.10637207 ...  0.7379003  -1.0966189\n",
      "   0.6128042 ]\n",
      " ...\n",
      " [ 0.29230827 -0.26123065  0.34682733 ... -0.6132838   0.20073664\n",
      "   0.6319149 ]\n",
      " [ 0.46884552 -0.36563313 -0.33744717 ... -0.16026834  0.05245114\n",
      "   0.66982824]\n",
      " [-0.15445638  0.16994956 -0.25776193 ...  0.10997603 -0.31039646\n",
      "  -0.13958181]]\n"
     ]
    }
   ],
   "source": [
    "#now extract features from tweets using BERT model\n",
    "if os.path.exists(\"model/bert.npy\"):\n",
    "    tweets_features = np.load(\"model/bert.npy\")#if tweets features already extarcted then load it \n",
    "else:\n",
    "    #now apply bert model on tweets to extract features and then save the features \n",
    "    tweets = tweets['Tweets']\n",
    "    embeddings = bert.encode(tweets, convert_to_tensor=True)#convert tweets to bert features\n",
    "    tweets_features = embeddings.numpy()\n",
    "    np.save(\"model/bert\", tweets_features)\n",
    "print(\"Tweets Bert Features\")\n",
    "print(tweets_features)"
   ]
  },
  {
   "cell_type": "code",
   "execution_count": 8,
   "id": "0fabc8fe",
   "metadata": {},
   "outputs": [
    {
     "name": "stdout",
     "output_type": "stream",
     "text": [
      "Merge & Normalzied features\n",
      "[[0.54870782 0.74391371 0.63015561 ... 0.56635935 0.5718851  0.57121739]\n",
      " [0.36022788 0.33363261 0.65170037 ... 0.2619937  0.27178387 0.26832227]\n",
      " [0.66181961 0.54416958 0.61050375 ... 0.52927228 0.5137904  0.53556249]\n",
      " ...\n",
      " [0.66822119 0.41713395 0.52732558 ... 0.07100852 0.06676222 0.07825077]\n",
      " [0.52210306 0.43823311 0.68503567 ... 0.26468253 0.26923226 0.26333426]\n",
      " [0.62176485 0.31517988 0.39696186 ... 0.49478129 0.49252278 0.49399589]]\n"
     ]
    }
   ],
   "source": [
    "#now process dataset by merging both bert features and stock prices data\n",
    "dataset.drop(['Adj Close','Volume'], axis = 1,inplace=True)\n",
    "dataset = dataset.values\n",
    "X = dataset[:,1:dataset.shape[1]-1]\n",
    "Y = dataset[:,dataset.shape[1]-1]\n",
    "Y = tweets['Label'].ravel()\n",
    "#now merge stock prices X and tweets features\n",
    "X = np.hstack((tweets_features, X))#stacking or merging features\n",
    "indices = np.arange(X.shape[0])\n",
    "np.random.shuffle(indices)#shuffle dataset\n",
    "X = X[indices]\n",
    "Y = Y[indices]\n",
    "X = normalized.fit_transform(X)#normalized dataset to 0 and 1\n",
    "print(\"Merge & Normalzied features\")\n",
    "print(X)"
   ]
  },
  {
   "cell_type": "code",
   "execution_count": 9,
   "id": "ed1590ce",
   "metadata": {},
   "outputs": [
    {
     "name": "stdout",
     "output_type": "stream",
     "text": [
      "\n",
      "Dataset train & test split as 80% dataset for training and 20% for testing\n",
      "Training Size (80%): 1006\n",
      "Testing Size (20%): 252\n",
      "\n"
     ]
    }
   ],
   "source": [
    "#split dataset into train and test where 80% dataset fro training and 20% for testing\n",
    "X = X[:,2:X.shape[1]]\n",
    "X = np.reshape(X, (X.shape[0], 35, 22))#reshaping features as 3 dimensional for LSTM, GRU and Bidirectional training compatible\n",
    "Y = to_categorical(Y)\n",
    "X_train, X_test, y_train, y_test = train_test_split(X, Y, test_size = 0.2)\n",
    "print()\n",
    "print(\"Dataset train & test split as 80% dataset for training and 20% for testing\")\n",
    "print(\"Training Size (80%): \"+str(X_train.shape[0])) #print training and test size\n",
    "print(\"Testing Size (20%): \"+str(X_test.shape[0]))\n",
    "print()"
   ]
  },
  {
   "cell_type": "code",
   "execution_count": 12,
   "id": "7735b63f",
   "metadata": {},
   "outputs": [],
   "source": [
    "#define global variables to calculate and store accuracy and other metrics\n",
    "precision = []\n",
    "recall = []\n",
    "fscore = []\n",
    "accuracy = []"
   ]
  },
  {
   "cell_type": "code",
   "execution_count": 13,
   "id": "41d297e0",
   "metadata": {},
   "outputs": [],
   "source": [
    "#function to calculate various metrics such as accuracy, precision etc\n",
    "def calculateMetrics(algorithm, predict, testY):\n",
    "    class_labels = ['Prices will Go Up', 'Prices will go Down']\n",
    "    p = precision_score(testY, predict,average='macro') * 100\n",
    "    r = recall_score(testY, predict,average='macro') * 100\n",
    "    f = f1_score(testY, predict,average='macro') * 100\n",
    "    a = accuracy_score(testY,predict)*100     \n",
    "    print()\n",
    "    print(algorithm+' Accuracy  : '+str(a))\n",
    "    print(algorithm+' Precision   : '+str(p))\n",
    "    print(algorithm+' Recall      : '+str(r))\n",
    "    print(algorithm+' FMeasure    : '+str(f))    \n",
    "    accuracy.append(a)\n",
    "    precision.append(p)\n",
    "    recall.append(r)\n",
    "    fscore.append(f)\n",
    "    conf_matrix = confusion_matrix(testY, predict) \n",
    "    plt.figure(figsize =(5, 5)) \n",
    "    ax = sns.heatmap(conf_matrix, xticklabels = class_labels, yticklabels = class_labels, annot = True, cmap=\"viridis\" ,fmt =\"g\");\n",
    "    ax.set_ylim([0,len(class_labels)])\n",
    "    plt.title(algorithm+\" Confusion matrix\") \n",
    "    plt.ylabel('True class') \n",
    "    plt.xlabel('Predicted class') \n",
    "    plt.show()"
   ]
  },
  {
   "cell_type": "code",
   "execution_count": 14,
   "id": "65344556",
   "metadata": {},
   "outputs": [
    {
     "name": "stdout",
     "output_type": "stream",
     "text": [
      "WARNING:tensorflow:From c:\\users\\user\\appdata\\local\\programs\\python\\python37\\lib\\site-packages\\keras\\backend\\tensorflow_backend.py:422: The name tf.global_variables is deprecated. Please use tf.compat.v1.global_variables instead.\n",
      "\n",
      "\n",
      "Existing Long Short Term Memory Accuracy  : 79.76190476190477\n",
      "Existing Long Short Term Memory Precision   : 80.30089628681179\n",
      "Existing Long Short Term Memory Recall      : 79.81417322834645\n",
      "Existing Long Short Term Memory FMeasure    : 79.6899445313611\n"
     ]
    },
    {
     "data": {
      "image/png": "[encoded data removed]",
      "text/plain": [
       "<Figure size 360x360 with 2 Axes>"
      ]
     },
     "metadata": {
      "needs_background": "light"
     },
     "output_type": "display_data"
    }
   ],
   "source": [
    "#training existing LSTM algorihm on bert and stock dataset features\n",
    "lstm_model = Sequential()#defining deep learning sequential object\n",
    "#adding LSTM layer with 100 filters to filter given input X train data to select relevant features\n",
    "lstm_model.add(LSTM(100,input_shape=(X_train.shape[1], X_train.shape[2])))\n",
    "#adding dropout layer to remove irrelevant features\n",
    "lstm_model.add(Dropout(0.5))\n",
    "#adding another layer\n",
    "lstm_model.add(Dense(100, activation='relu'))\n",
    "#defining output layer for prediction\n",
    "lstm_model.add(Dense(y_train.shape[1], activation='softmax'))\n",
    "#compile and train LSTM model\n",
    "lstm_model.compile(loss='categorical_crossentropy', optimizer='adam', metrics=['accuracy'])\n",
    "if os.path.exists(\"model/lstm_weights.hdf5\") == False:\n",
    "    model_check_point = ModelCheckpoint(filepath='model/lstm_weights.hdf5', verbose = 1, save_best_only = True)\n",
    "    hist = lstm_model.fit(X_train, y_train, batch_size = 16, epochs = 20, validation_data=(X_test, y_test), callbacks=[model_check_point], verbose=1)\n",
    "    f = open('model/lstm_history.pckl', 'wb')\n",
    "    pickle.dump(hist.history, f)\n",
    "    f.close()    \n",
    "else:\n",
    "    lstm_model = load_model(\"model/lstm_weights.hdf5\")\n",
    "#perform prediction on test data   \n",
    "predict = lstm_model.predict(X_test)\n",
    "predict = np.argmax(predict, axis=1)\n",
    "y_test1 = np.argmax(y_test, axis=1)\n",
    "#calculate accuracy and other metrics using test label and predicted values\n",
    "calculateMetrics(\"Existing Long Short Term Memory\", predict, y_test1)"
   ]
  },
  {
   "cell_type": "code",
   "execution_count": 15,
   "id": "280393e9",
   "metadata": {},
   "outputs": [
    {
     "name": "stdout",
     "output_type": "stream",
     "text": [
      "\n",
      "Hybrid Information Mising Module (GRU + LSTM) Accuracy  : 83.33333333333334\n",
      "Hybrid Information Mising Module (GRU + LSTM) Precision   : 83.41441839893852\n",
      "Hybrid Information Mising Module (GRU + LSTM) Recall      : 83.31338582677165\n",
      "Hybrid Information Mising Module (GRU + LSTM) FMeasure    : 83.31651954602775\n"
     ]
    },
    {
     "data": {
      "image/png": "[encoded data removed]",
      "text/plain": [
       "<Figure size 360x360 with 2 Axes>"
      ]
     },
     "metadata": {
      "needs_background": "light"
     },
     "output_type": "display_data"
    }
   ],
   "source": [
    "#train Hybrid Information Mising module using GRU and LSTM where LSTM will work on bert text features and GRU will\n",
    "#work on stock prices and then merge both features using MLP layers to perform binary prediction\n",
    "lstm_gru = Sequential()#defining deep learning sequential object\n",
    "#adding LSTM layer to work on bert text features\n",
    "lstm_gru.add(LSTM(100,input_shape=(X_train.shape[1], X_train.shape[2]), return_sequences=True))\n",
    "lstm_gru.add(Dropout(0.2))\n",
    "#adding GRU layer for stock price data analysis\n",
    "lstm_gru.add(GRU(80, return_sequences=True))\n",
    "#adding dropout layer to remove irrelevant features\n",
    "lstm_gru.add(Dropout(0.2))\n",
    "#defining another GRU layer as MLP to merge both prices and bert text features\n",
    "lstm_gru.add(GRU(64))\n",
    "lstm_gru.add(Dropout(0.2))\n",
    "#adding another layer\n",
    "lstm_gru.add(Dense(100, activation='relu'))\n",
    "#defining output layer for binary prediction\n",
    "lstm_gru.add(Dense(y_train.shape[1], activation='softmax'))\n",
    "#compile and train model\n",
    "lstm_gru.compile(optimizer = 'adam', loss = 'categorical_crossentropy', metrics = ['accuracy'])\n",
    "if os.path.exists(\"model/propose_weights.hdf5\") == False:\n",
    "    model_check_point = ModelCheckpoint(filepath='model/propose_weights.hdf5', verbose = 1, save_best_only = True)\n",
    "    hist = lstm_gru.fit(X_train, y_train, batch_size = 16, epochs = 20, validation_data=(X_test, y_test), callbacks=[model_check_point], verbose=1)\n",
    "    f = open('model/propose_history.pckl', 'wb')\n",
    "    pickle.dump(hist.history, f)\n",
    "    f.close()    \n",
    "else:\n",
    "    lstm_gru = load_model(\"model/propose_weights.hdf5\")\n",
    "#calculate accuracy and other metrics using test label and predicted values   \n",
    "predict = lstm_gru.predict(X_test)\n",
    "predict = np.argmax(predict, axis=1)\n",
    "y_test1 = np.argmax(y_test, axis=1)\n",
    "#calculate accuracy and other metrics using test label and predicted values\n",
    "calculateMetrics(\"Hybrid Information Mising Module (GRU + LSTM)\", predict, y_test1)"
   ]
  },
  {
   "cell_type": "code",
   "execution_count": 16,
   "id": "b73851c3",
   "metadata": {},
   "outputs": [
    {
     "name": "stdout",
     "output_type": "stream",
     "text": [
      "\n",
      "Extension Hybrid Information Mising Module (GRU + LSTM + Bidirectional) Accuracy  : 85.71428571428571\n",
      "Extension Hybrid Information Mising Module (GRU + LSTM + Bidirectional) Precision   : 85.84697036709422\n",
      "Extension Hybrid Information Mising Module (GRU + LSTM + Bidirectional) Recall      : 85.73858267716535\n",
      "Extension Hybrid Information Mising Module (GRU + LSTM + Bidirectional) FMeasure    : 85.70618264322178\n"
     ]
    },
    {
     "data": {
      "image/png": "[encoded data removed]",
      "text/plain": [
       "<Figure size 360x360 with 2 Axes>"
      ]
     },
     "metadata": {
      "needs_background": "light"
     },
     "output_type": "display_data"
    }
   ],
   "source": [
    "#now train extension model by combining multiple models such as LSTM + GRU + Bidirectional\n",
    "#train Hybrid Information Mising module using GRU and LSTM  and Bidirectional where LSTM will work on bert text features \n",
    "#and GRU will work on stock prices and then merge both features using MLP layers and then bidirectinal layer\n",
    "#will perform features optimization using both forward and backward direction to enhance prediction accuracy\n",
    "extension_model = Sequential()#defining deep learning sequential object\n",
    "#adding LSTM layer with 100 filters to filter given input X train data to select relevant features\n",
    "extension_model.add(LSTM(100,input_shape=(X_train.shape[1], X_train.shape[2]), return_sequences=True))\n",
    "extension_model.add(Dropout(0.2))\n",
    "#defining another GRU layer as MLP to merge both prices and bert text features\n",
    "extension_model.add(Bidirectional(GRU(80, return_sequences=True)))\n",
    "#adding dropout layer to remove irrelevant features\n",
    "extension_model.add(Dropout(0.2))\n",
    "#adding bidirectional layer with GRU to optimize features in both forward and backward direction\n",
    "extension_model.add(Bidirectional(GRU(64)))\n",
    "extension_model.add(Dropout(0.2))\n",
    "#adding another layer\n",
    "extension_model.add(Dense(100, activation='relu'))\n",
    "#defining output layer for prediction\n",
    "extension_model.add(Dense(y_train.shape[1], activation='softmax'))\n",
    "extension_model.compile(optimizer = 'adam', loss = 'categorical_crossentropy', metrics = ['accuracy'])\n",
    "if os.path.exists(\"model/extension_weights.hdf5\") == False:\n",
    "    model_check_point = ModelCheckpoint(filepath='model/extension_weights.hdf5', verbose = 1, save_best_only = True)\n",
    "    hist = extension_model.fit(X_train, y_train, batch_size = 16, epochs = 20, validation_data=(X_test, y_test), callbacks=[model_check_point], verbose=1)\n",
    "    f = open('model/extension_history.pckl', 'wb')\n",
    "    pickle.dump(hist.history, f)\n",
    "    f.close()    \n",
    "else:\n",
    "    extension_model = load_model(\"model/extension_weights.hdf5\")\n",
    "#perform prediction on test data using extension model   \n",
    "predict = extension_model.predict(X_test)\n",
    "predict = np.argmax(predict, axis=1)\n",
    "y_test1 = np.argmax(y_test, axis=1)\n",
    "#calculate accuracy and other metrics using test label and predicted values using extension model\n",
    "calculateMetrics(\"Extension Hybrid Information Mising Module (GRU + LSTM + Bidirectional)\", predict, y_test1)"
   ]
  },
  {
   "cell_type": "code",
   "execution_count": 17,
   "id": "818dccc8",
   "metadata": {},
   "outputs": [
    {
     "data": {
      "image/png": "[encoded data removed]",
      "text/plain": [
       "<Figure size 432x288 with 1 Axes>"
      ]
     },
     "metadata": {
      "needs_background": "light"
     },
     "output_type": "display_data"
    }
   ],
   "source": [
    "df = pd.DataFrame([['Existing LSTM','Precision',precision[0]],['Existing LSTM','Recall',recall[0]],['Existing LSTM','F1 Score',fscore[0]],['Existing LSTM','Accuracy',accuracy[0]],\n",
    "                   ['Propose Hybrid Information Mising Module','Precision',precision[1]],['Propose Hybrid Information Mising Module','Recall',recall[1]],['Propose Hybrid Information Mising Module','F1 Score',fscore[1]],['Propose Hybrid Information Mising Module','Accuracy',accuracy[1]],\n",
    "                   ['Extension Bidirectional Hybrid Information Mising Module','Precision',precision[2]],['Extension Bidirectional Hybrid Information Mising Module','Recall',recall[2]],['Extension Bidirectional Hybrid Information Mising Module','F1 Score',fscore[2]],['Extension Bidirectional Hybrid Information Mising Module','Accuracy',accuracy[2]],\n",
    "                  ],columns=['Parameters','Algorithms','Value'])\n",
    "df.pivot(\"Parameters\", \"Algorithms\", \"Value\").plot(kind='bar')\n",
    "plt.title(\"All Algorithms Performance Graph\")\n",
    "plt.show()"
   ]
  },
  {
   "cell_type": "code",
   "execution_count": 18,
   "id": "50c76409",
   "metadata": {},
   "outputs": [
    {
     "data": {
      "text/html": [
       "<div>\n",
       "<style scoped>\n",
       "    .dataframe tbody tr th:only-of-type {\n",
       "        vertical-align: middle;\n",
       "    }\n",
       "\n",
       "    .dataframe tbody tr th {\n",
       "        vertical-align: top;\n",
       "    }\n",
       "\n",
       "    .dataframe thead th {\n",
       "        text-align: right;\n",
       "    }\n",
       "</style>\n",
       "<table border=\"1\" class=\"dataframe\">\n",
       "  <thead>\n",
       "    <tr style=\"text-align: right;\">\n",
       "      <th></th>\n",
       "      <th>Algorithm Name</th>\n",
       "      <th>Precison</th>\n",
       "      <th>Recall</th>\n",
       "      <th>FScore</th>\n",
       "      <th>Accuracy</th>\n",
       "    </tr>\n",
       "  </thead>\n",
       "  <tbody>\n",
       "    <tr>\n",
       "      <th>0</th>\n",
       "      <td>Existing LSTM</td>\n",
       "      <td>80.300896</td>\n",
       "      <td>79.814173</td>\n",
       "      <td>79.689945</td>\n",
       "      <td>79.761905</td>\n",
       "    </tr>\n",
       "    <tr>\n",
       "      <th>1</th>\n",
       "      <td>Propose Hybrid Information Mising Module</td>\n",
       "      <td>83.414418</td>\n",
       "      <td>83.313386</td>\n",
       "      <td>83.316520</td>\n",
       "      <td>83.333333</td>\n",
       "    </tr>\n",
       "    <tr>\n",
       "      <th>2</th>\n",
       "      <td>Extension Bidirectional Hybrid Information Mis...</td>\n",
       "      <td>85.846970</td>\n",
       "      <td>85.738583</td>\n",
       "      <td>85.706183</td>\n",
       "      <td>85.714286</td>\n",
       "    </tr>\n",
       "  </tbody>\n",
       "</table>\n",
       "</div>"
      ],
      "text/plain": [
       "                                      Algorithm Name   Precison     Recall  \\\n",
       "0                                      Existing LSTM  80.300896  79.814173   \n",
       "1           Propose Hybrid Information Mising Module  83.414418  83.313386   \n",
       "2  Extension Bidirectional Hybrid Information Mis...  85.846970  85.738583   \n",
       "\n",
       "      FScore   Accuracy  \n",
       "0  79.689945  79.761905  \n",
       "1  83.316520  83.333333  \n",
       "2  85.706183  85.714286  "
      ]
     },
     "execution_count": 18,
     "metadata": {},
     "output_type": "execute_result"
    }
   ],
   "source": [
    "#showing all algorithms performance in tabular format\n",
    "columns = [\"Algorithm Name\",\"Precison\",\"Recall\",\"FScore\",\"Accuracy\"]\n",
    "values = []\n",
    "algorithm_names = [\"Existing LSTM\",\"Propose Hybrid Information Mising Module\", \"Extension Bidirectional Hybrid Information Mising Module\"]\n",
    "for i in range(len(algorithm_names)):\n",
    "    values.append([algorithm_names[i],precision[i],recall[i],fscore[i],accuracy[i]])\n",
    "    \n",
    "temp = pd.DataFrame(values,columns=columns)\n",
    "temp"
   ]
  },
  {
   "cell_type": "code",
   "execution_count": 26,
   "id": "db5b5107",
   "metadata": {},
   "outputs": [
    {
     "name": "stdout",
     "output_type": "stream",
     "text": [
      "Tweet : $AAPL   excellent short on my part,  mentioned earlier. I don't always mention intraday trades, to busy\n",
      "Stock Price : ['2013-01-09' 74.64286 75.001427 73.71285999999998 73.871429]\n",
      "Stock Movement Prediction ====> Prices will Go Up\n",
      "\n",
      "Tweet : Bad sales at $SHLD. $SNE streaming games. $AAPL streaming everything$AMZN selling everything. Should anyone own $BBY here? @jimcramer\n",
      "Stock Price : ['2013-01-10' 75.507141 75.531425 73.645714 72.78714000000002]\n",
      "Stock Movement Prediction ====> Prices will go Down\n",
      "\n",
      "Tweet : RT @PeterGhostine: I guess Carl needs to buy antoher tranche of $AAPL. Sold the 552.50/555 call spread on my private stream today.\n",
      "Stock Price : ['2013-01-11' 74.428574 75.045715 74.145714 74.328575]\n",
      "Stock Movement Prediction ====> Prices will Go Up\n",
      "\n",
      "Tweet : $AAPL a secret SuperBowl commercial would be an awesome surprise for Apple to tease a TV device with most of America watching. If only!\n",
      "Stock Price : ['2013-01-14' 71.811432 72.5 71.215714 75.678574]\n",
      "Stock Movement Prediction ====> Prices will Go Up\n",
      "\n",
      "Tweet : $AAPL - TECH STOCKS: No Reprieve For Apple In Wake Of IPhone Weakness\n",
      "Stock Price : ['2013-01-15' 71.185715 71.284286 69.054283 69.41714499999999]\n",
      "Stock Movement Prediction ====> Prices will go Down\n",
      "\n"
     ]
    }
   ],
   "source": [
    "class_labels = ['Prices will Go Up', 'Prices will go Down']\n",
    "test_stock = pd.read_csv(\"Dataset/test_stock.csv\")#read stock values\n",
    "test_tweets = pd.read_csv(\"Dataset/test_tweets.csv\") #read tweets\n",
    "stocks = test_stock.values\n",
    "stock = stocks[:,1:stocks.shape[1]]#read all stock data as array\n",
    "tweets = test_tweets['Tweets']\n",
    "embeddings = bert.encode(tweets, convert_to_tensor=True)#convert tweets to bert features\n",
    "tweets_features = embeddings.numpy()\n",
    "X = np.hstack((tweets_features, stock))#merge both stock and tweets features\n",
    "X = normalized.transform(X)#normalized dataset to 0 and 1\n",
    "X = X[:,2:X.shape[1]]\n",
    "X = np.reshape(X, (X.shape[0], 35, 22))#reshape data as 3 dimensional so compatible with GRU, LSTM and bidrirectional\n",
    "predict = extension_model.predict(X)#perform prediction using extension model for prices\n",
    "for i in range(len(predict)):#display output values\n",
    "    y_pred = np.argmax(predict[i])\n",
    "    print(\"Tweet : \"+tweets[i])\n",
    "    print(\"Stock Price : \"+str(stocks[i]))\n",
    "    print(\"Stock Movement Prediction ====> \"+class_labels[y_pred])\n",
    "    print()"
   ]
  },
  {
   "cell_type": "code",
   "execution_count": null,
   "id": "2eaa3a78",
   "metadata": {},
   "outputs": [],
   "source": []
  }
 ],
 "metadata": {
  "kernelspec": {
   "display_name": "Python 3 (ipykernel)",
   "language": "python",
   "name": "python3"
  },
  "language_info": {
   "codemirror_mode": {
    "name": "ipython",
    "version": 3
   },
   "file_extension": ".py",
   "mimetype": "text/x-python",
   "name": "python",
   "nbconvert_exporter": "python",
   "pygments_lexer": "ipython3",
   "version": "3.7.2"
  }
 },
 "nbformat": 4,
 "nbformat_minor": 5
}
